{
  "cells": [
    {
      "cell_type": "markdown",
      "metadata": {
        "id": "doW7UPbmqRIg"
      },
      "source": [
        "# Diamond Company Analytics Challenge\n",
        "\n",
        "**Time:** 35 minutes\n",
        "\n",
        "**Scenario:** You are the new data analyst at a prestigious diamond company. The CEO has called an urgent meeting and needs answers to critical business questions about the inventory.\n",
        "\n",
        "**Your Mission:** Analyze the diamond inventory data and provide insights to guide strategic decisions."
      ]
    },
    {
      "cell_type": "code",
      "execution_count": 1,
      "metadata": {
        "colab": {
          "base_uri": "https://localhost:8080/"
        },
        "id": "ATDNtyi1qRIh",
        "outputId": "eb2b86fb-2271-4af8-ebc6-7b1a87a81739"
      },
      "outputs": [
        {
          "output_type": "stream",
          "name": "stdout",
          "text": [
            "Loading diamonds dataset...\n",
            "Dataset loaded successfully!\n"
          ]
        }
      ],
      "source": [
        "import polars as pl\n",
        "\n",
        "# Load the diamonds dataset\n",
        "print(\"Loading diamonds dataset...\")\n",
        "df = pl.read_csv('https://raw.githubusercontent.com/pycaret/pycaret/master/datasets/diamond.csv')\n",
        "print(\"Dataset loaded successfully!\")"
      ]
    },
    {
      "cell_type": "markdown",
      "metadata": {
        "id": "_KyS-lyiqRIi"
      },
      "source": [
        "## Section 1: Initial Inventory Assessment (5 minutes)\n",
        "\n",
        "The CEO walks in: \"Before we dive into specifics, I need to understand what we're working with. Give me the basics about our inventory database.\""
      ]
    },
    {
      "cell_type": "markdown",
      "metadata": {
        "id": "A9K9n87VqRIi"
      },
      "source": [
        "### Question 1: \"How extensive is our inventory database?\"\n",
        "\n",
        "The CEO needs to know the scale of data you're analyzing."
      ]
    },
    {
      "cell_type": "code",
      "execution_count": 4,
      "metadata": {
        "colab": {
          "base_uri": "https://localhost:8080/"
        },
        "id": "cCyYPBKvqRIi",
        "outputId": "456960f1-3d8d-4208-cb96-d2aaafc4189c"
      },
      "outputs": [
        {
          "output_type": "stream",
          "name": "stdout",
          "text": [
            "Total Records: 6000\n",
            "Unique Products: 196\n",
            "Unique Categories: 5\n"
          ]
        }
      ],
      "source": [
        "# Your code here:\n",
        "\n",
        "# Total number of records\n",
        "total_records = len(df)\n",
        "\n",
        "# Unique products\n",
        "unique_products = df['Carat Weight'].n_unique() if 'Carat Weight' in df.columns else df.iloc[:, 0].n_unique()\n",
        "\n",
        "# Unique categories\n",
        "unique_categories = df['Cut'].n_unique() if 'Cut' in df.columns else 'Category column not found'\n",
        "\n",
        "# Summary Output\n",
        "print(f\"Total Records: {total_records}\")\n",
        "print(f\"Unique Products: {unique_products}\")\n",
        "print(f\"Unique Categories: {unique_categories}\")"
      ]
    },
    {
      "cell_type": "markdown",
      "metadata": {
        "id": "PV6mwVpAqRIi"
      },
      "source": [
        "### Question 2: \"What information do we track about each diamond?\"\n",
        "\n",
        "List all the characteristics we record."
      ]
    },
    {
      "cell_type": "code",
      "execution_count": 8,
      "metadata": {
        "colab": {
          "base_uri": "https://localhost:8080/"
        },
        "id": "u5eCH_-OqRIi",
        "outputId": "f1d9b242-e9be-4a34-aa97-e549cbd1e20e"
      },
      "outputs": [
        {
          "output_type": "stream",
          "name": "stdout",
          "text": [
            "We track the following characteristics for each diamond:\n",
            "• Carat Weight\n",
            "• Cut\n",
            "• Color\n",
            "• Clarity\n",
            "• Polish\n",
            "• Symmetry\n",
            "• Report\n",
            "• Price\n"
          ]
        }
      ],
      "source": [
        "# Your code here:\n",
        "\n",
        "# Display all column names\n",
        "diamond_characteristics = df.columns\n",
        "\n",
        "print(\"We track the following characteristics for each diamond:\")\n",
        "for col in diamond_characteristics:\n",
        "    print(f\"• {col}\")"
      ]
    },
    {
      "cell_type": "markdown",
      "metadata": {
        "id": "WLXuxozZqRIi"
      },
      "source": [
        "### Question 3: \"When I look at one line in this database, what am I looking at?\"\n",
        "\n",
        "Explain in business terms:"
      ]
    },
    {
      "cell_type": "markdown",
      "metadata": {
        "id": "xV9CsxOnqRIi"
      },
      "source": [
        "**Your answer:** Each row represents: one single diamond and its details."
      ]
    },
    {
      "cell_type": "markdown",
      "metadata": {
        "id": "7iimo4jHqRIi"
      },
      "source": [
        "## Section 2: Strategic Business Questions (20 minutes)\n",
        "\n",
        "The CEO continues: \"Now let's get to the important questions. Our board meeting is tomorrow and I need concrete numbers.\""
      ]
    },
    {
      "cell_type": "markdown",
      "metadata": {
        "id": "tU_NCe9jqRIi"
      },
      "source": [
        "### Question 4: \"We're considering expanding our storage facilities. How many total carats do we have in inventory? I need to know if our vaults can handle the weight.\"\n",
        "\n",
        "Think about what measurement would help answer this."
      ]
    },
    {
      "cell_type": "code",
      "execution_count": 16,
      "metadata": {
        "colab": {
          "base_uri": "https://localhost:8080/"
        },
        "id": "raljiSGuqRIj",
        "outputId": "ef4fdd27-f22e-4ad7-f4bd-b102a4105011"
      },
      "outputs": [
        {
          "output_type": "stream",
          "name": "stdout",
          "text": [
            " Total Carats in Inventory: 8,007.12 carats\n"
          ]
        }
      ],
      "source": [
        "# Your code here:\n",
        "\n",
        "if 'Carat Weight' in df.columns:\n",
        "    # Sum up total carats in inventory\n",
        "    total_carats = df['Carat Weight'].sum()\n",
        "\n",
        "    print(f\" Total Carats in Inventory: {total_carats:,.2f} carats\")"
      ]
    },
    {
      "cell_type": "markdown",
      "metadata": {
        "id": "nTUKOnxSqRIj"
      },
      "source": [
        "### Question 5: \"Our new marketing campaign claims we have 'the widest variety of cuts in the industry.' Can you verify this?\"\n",
        "\n",
        "The CEO wants to know about variety, not quantity."
      ]
    },
    {
      "cell_type": "code",
      "execution_count": 21,
      "metadata": {
        "colab": {
          "base_uri": "https://localhost:8080/"
        },
        "id": "IAm0pdszqRIj",
        "outputId": "f1eda92b-5aa0-4de0-acaa-0075e43aa616"
      },
      "outputs": [
        {
          "output_type": "stream",
          "name": "stdout",
          "text": [
            "We currently offer 5 distinct diamond cuts.\n",
            "Here is the list of cuts:\n",
            "• Fair\n",
            "• Good\n",
            "• Ideal\n",
            "• Signature-Ideal\n",
            "• Very Good\n"
          ]
        }
      ],
      "source": [
        "# Your code here:\n",
        "\n",
        "# Check if 'Cut' column exists\n",
        "if 'Cut' in df.columns:\n",
        "    # Get unique cuts\n",
        "    unique_cuts = list(df['Cut'].unique())\n",
        "    num_unique_cuts = len(unique_cuts)\n",
        "\n",
        "    print(f\"We currently offer {num_unique_cuts} distinct diamond cuts.\")\n",
        "    print(\"Here is the list of cuts:\")\n",
        "    for cut in sorted(unique_cuts):\n",
        "        print(f\"• {cut}\")\n",
        "else:\n",
        "    print(\" Column 'cut' not found in the dataset.\")"
      ]
    },
    {
      "cell_type": "markdown",
      "metadata": {
        "id": "tbJWzS09qRIj"
      },
      "source": [
        "### Question 6: \"I'm meeting with our insurance company. They need to know our price exposure - what's our most and least valuable diamond?\""
      ]
    },
    {
      "cell_type": "code",
      "execution_count": 26,
      "metadata": {
        "colab": {
          "base_uri": "https://localhost:8080/"
        },
        "id": "cU-3dc63qRIj",
        "outputId": "b3f3b44e-b2b4-4174-bbec-98d61158e989"
      },
      "outputs": [
        {
          "output_type": "stream",
          "name": "stdout",
          "text": [
            "Least Valuable Diamond:\n",
            "{'Carat Weight': 0.77, 'Cut': 'Good', 'Color': 'I', 'Clarity': 'VS1', 'Polish': 'VG', 'Symmetry': 'G', 'Report': 'AGSL', 'Price': 2184}\n",
            "\n",
            "Most Valuable Diamond:\n",
            "{'Carat Weight': 2.79, 'Cut': 'Ideal', 'Color': 'D', 'Clarity': 'IF', 'Polish': 'EX', 'Symmetry': 'EX', 'Report': 'GIA', 'Price': 101561}\n"
          ]
        }
      ],
      "source": [
        "# Your code here:\n",
        "\n",
        "# Ensure 'Price' column exists\n",
        "if 'Price' in df.columns:\n",
        "    # Sort the DataFrame by price\n",
        "    sorted_by_price = df.sort('Price')\n",
        "\n",
        "    # Least valuable diamond\n",
        "    least_valuable = sorted_by_price.row(0, named=True)\n",
        "\n",
        "    # Most valuable diamond\n",
        "    most_valuable = sorted_by_price.row(-1, named=True)\n",
        "\n",
        "    print(\"Least Valuable Diamond:\")\n",
        "    print(least_valuable)\n",
        "\n",
        "    print(\"\\nMost Valuable Diamond:\")\n",
        "    print(most_valuable)"
      ]
    },
    {
      "cell_type": "markdown",
      "metadata": {
        "id": "x-DcVnt8qRIj"
      },
      "source": [
        "### Question 7: \"Which color grades should we focus on in our premium line? I need typical prices across our color spectrum.\"\n",
        "\n",
        "The CEO wants to understand pricing patterns."
      ]
    },
    {
      "cell_type": "code",
      "execution_count": 31,
      "metadata": {
        "colab": {
          "base_uri": "https://localhost:8080/",
          "height": 304
        },
        "id": "K6-FSGyKqRIj",
        "outputId": "0a8b3e15-c6b8-4f1c-835b-1dec4a33f0a2"
      },
      "outputs": [
        {
          "output_type": "stream",
          "name": "stdout",
          "text": [
            "Typical Prices by Color Grade:\n"
          ]
        },
        {
          "output_type": "display_data",
          "data": {
            "text/plain": [
              "shape: (6, 4)\n",
              "┌───────┬───────┬──────────────┬──────────────┐\n",
              "│ Color ┆ Count ┆ Mean Price   ┆ Median Price │\n",
              "│ ---   ┆ ---   ┆ ---          ┆ ---          │\n",
              "│ str   ┆ u32   ┆ f64          ┆ f64          │\n",
              "╞═══════╪═══════╪══════════════╪══════════════╡\n",
              "│ D     ┆ 661   ┆ 15255.783661 ┆ 7567.0       │\n",
              "│ F     ┆ 1013  ┆ 12712.241856 ┆ 8860.0       │\n",
              "│ G     ┆ 1501  ┆ 12520.050633 ┆ 8800.0       │\n",
              "│ E     ┆ 778   ┆ 11539.190231 ┆ 7059.5       │\n",
              "│ H     ┆ 1079  ┆ 10487.347544 ┆ 7169.0       │\n",
              "│ I     ┆ 968   ┆ 8989.636364  ┆ 6655.0       │\n",
              "└───────┴───────┴──────────────┴──────────────┘"
            ],
            "text/html": [
              "<div><style>\n",
              ".dataframe > thead > tr,\n",
              ".dataframe > tbody > tr {\n",
              "  text-align: right;\n",
              "  white-space: pre-wrap;\n",
              "}\n",
              "</style>\n",
              "<small>shape: (6, 4)</small><table border=\"1\" class=\"dataframe\"><thead><tr><th>Color</th><th>Count</th><th>Mean Price</th><th>Median Price</th></tr><tr><td>str</td><td>u32</td><td>f64</td><td>f64</td></tr></thead><tbody><tr><td>&quot;D&quot;</td><td>661</td><td>15255.783661</td><td>7567.0</td></tr><tr><td>&quot;F&quot;</td><td>1013</td><td>12712.241856</td><td>8860.0</td></tr><tr><td>&quot;G&quot;</td><td>1501</td><td>12520.050633</td><td>8800.0</td></tr><tr><td>&quot;E&quot;</td><td>778</td><td>11539.190231</td><td>7059.5</td></tr><tr><td>&quot;H&quot;</td><td>1079</td><td>10487.347544</td><td>7169.0</td></tr><tr><td>&quot;I&quot;</td><td>968</td><td>8989.636364</td><td>6655.0</td></tr></tbody></table></div>"
            ]
          },
          "metadata": {}
        }
      ],
      "source": [
        "# Your code here:\n",
        "\n",
        "# Check that necessary columns exist\n",
        "if 'Color' in df.columns and 'Price' in df.columns:\n",
        "    # Group by Color and calculate count, mean, and median price\n",
        "    price_by_color = df.group_by('Color').agg([\n",
        "        pl.len().alias(\"Count\"),\n",
        "        pl.col('Price').mean().alias(\"Mean Price\"),\n",
        "        pl.col('Price').median().alias(\"Median Price\")\n",
        "    ]).sort('Mean Price', descending=True)\n",
        "\n",
        "    # Display the result\n",
        "    print(\"Typical Prices by Color Grade:\")\n",
        "    display(price_by_color)\n",
        "else:\n",
        "    print(\"Required columns 'Color' and/or 'Price' not found in the dataset.\")"
      ]
    },
    {
      "cell_type": "markdown",
      "metadata": {
        "id": "b_nZu3KDqRIj"
      },
      "source": [
        "**Reflection:** After analyzing by color, how has your view of the data changed? What does each row in your result represent now?"
      ]
    },
    {
      "cell_type": "markdown",
      "metadata": {
        "id": "jv1EOCGEqRIj"
      },
      "source": [
        "**Your answer:** New grain = the diamond color grade."
      ]
    },
    {
      "cell_type": "markdown",
      "metadata": {
        "id": "NLXPzErGqRIj"
      },
      "source": [
        "## Section 3: Advanced Strategic Analysis (10 minutes)\n",
        "\n",
        "The CEO leans forward: \"These next questions will shape our strategy for next year.\""
      ]
    },
    {
      "cell_type": "markdown",
      "metadata": {
        "id": "mtXMcv0dqRIj"
      },
      "source": [
        "### Question 8: \"We're thinking of specializing in certain clarity grades. For our investor deck, I need a complete breakdown showing: how many diamonds we have in each clarity grade, their typical price, and the total carats we're holding for each grade.\""
      ]
    },
    {
      "cell_type": "code",
      "execution_count": 35,
      "metadata": {
        "colab": {
          "base_uri": "https://localhost:8080/",
          "height": 335
        },
        "id": "dBP5tpT-qRIj",
        "outputId": "73bc37c1-e6a9-4c0f-91b3-04a6ffeaffa3"
      },
      "outputs": [
        {
          "output_type": "stream",
          "name": "stdout",
          "text": [
            "Clarity Grade Breakdown:\n"
          ]
        },
        {
          "output_type": "display_data",
          "data": {
            "text/plain": [
              "shape: (7, 5)\n",
              "┌─────────┬──────────────┬──────────────┬──────────────┬──────────────┐\n",
              "│ Clarity ┆ Num Diamonds ┆ Avg Price    ┆ Median Price ┆ Total Carats │\n",
              "│ ---     ┆ ---          ┆ ---          ┆ ---          ┆ ---          │\n",
              "│ str     ┆ u32          ┆ f64          ┆ f64          ┆ f64          │\n",
              "╞═════════╪══════════════╪══════════════╪══════════════╪══════════════╡\n",
              "│ SI1     ┆ 2059         ┆ 8018.864012  ┆ 5417.0       ┆ 2563.69      │\n",
              "│ VS2     ┆ 1575         ┆ 11809.053333 ┆ 7568.0       ┆ 2170.81      │\n",
              "│ VS1     ┆ 1192         ┆ 13694.113255 ┆ 9245.0       ┆ 1682.74      │\n",
              "│ VVS2    ┆ 666          ┆ 14142.177177 ┆ 10266.0      ┆ 876.58       │\n",
              "│ VVS1    ┆ 285          ┆ 16845.680702 ┆ 11142.0      ┆ 389.43       │\n",
              "│ IF      ┆ 219          ┆ 22105.844749 ┆ 12647.0      ┆ 316.0        │\n",
              "│ FL      ┆ 4            ┆ 63776.0      ┆ 62371.5      ┆ 7.87         │\n",
              "└─────────┴──────────────┴──────────────┴──────────────┴──────────────┘"
            ],
            "text/html": [
              "<div><style>\n",
              ".dataframe > thead > tr,\n",
              ".dataframe > tbody > tr {\n",
              "  text-align: right;\n",
              "  white-space: pre-wrap;\n",
              "}\n",
              "</style>\n",
              "<small>shape: (7, 5)</small><table border=\"1\" class=\"dataframe\"><thead><tr><th>Clarity</th><th>Num Diamonds</th><th>Avg Price</th><th>Median Price</th><th>Total Carats</th></tr><tr><td>str</td><td>u32</td><td>f64</td><td>f64</td><td>f64</td></tr></thead><tbody><tr><td>&quot;SI1&quot;</td><td>2059</td><td>8018.864012</td><td>5417.0</td><td>2563.69</td></tr><tr><td>&quot;VS2&quot;</td><td>1575</td><td>11809.053333</td><td>7568.0</td><td>2170.81</td></tr><tr><td>&quot;VS1&quot;</td><td>1192</td><td>13694.113255</td><td>9245.0</td><td>1682.74</td></tr><tr><td>&quot;VVS2&quot;</td><td>666</td><td>14142.177177</td><td>10266.0</td><td>876.58</td></tr><tr><td>&quot;VVS1&quot;</td><td>285</td><td>16845.680702</td><td>11142.0</td><td>389.43</td></tr><tr><td>&quot;IF&quot;</td><td>219</td><td>22105.844749</td><td>12647.0</td><td>316.0</td></tr><tr><td>&quot;FL&quot;</td><td>4</td><td>63776.0</td><td>62371.5</td><td>7.87</td></tr></tbody></table></div>"
            ]
          },
          "metadata": {}
        }
      ],
      "source": [
        "# Your code here:\n",
        "\n",
        "# Ensure necessary columns exist\n",
        "required_cols = {'Clarity', 'Price', 'Carat Weight'}\n",
        "if required_cols.issubset(df.columns):\n",
        "    # Group by clarity and aggregate\n",
        "    clarity_breakdown = df.group_by('Clarity').agg([\n",
        "        pl.len().alias(\"Num Diamonds\"),\n",
        "        pl.col('Price').mean().alias(\"Avg Price\"),\n",
        "        pl.col('Price').median().alias(\"Median Price\"),\n",
        "        pl.col('Carat Weight').sum().alias(\"Total Carats\")\n",
        "    ]).sort('Avg Price', descending=False)\n",
        "\n",
        "    # Display the result\n",
        "    print(\"Clarity Grade Breakdown:\")\n",
        "    display(clarity_breakdown)"
      ]
    },
    {
      "cell_type": "markdown",
      "metadata": {
        "id": "F-b6CMuDqRIj"
      },
      "source": [
        "### Question 9: \"My luxury competitor claims they have the best prices for every cut-color combination. Show me our pricing structure across these combinations - I want to see where we're competitive.\""
      ]
    },
    {
      "cell_type": "code",
      "execution_count": 39,
      "metadata": {
        "colab": {
          "base_uri": "https://localhost:8080/",
          "height": 461
        },
        "id": "v3TfH_BNqRIj",
        "outputId": "94e12ede-5e46-4b3a-aed0-9a222b15880c"
      },
      "outputs": [
        {
          "output_type": "stream",
          "name": "stdout",
          "text": [
            "Pricing Structure by Cut-Color Combination:\n"
          ]
        },
        {
          "output_type": "display_data",
          "data": {
            "text/plain": [
              "shape: (30, 7)\n",
              "┌─────────────────┬───────┬───────┬──────────────┬──────────────┬───────────┬───────────┐\n",
              "│ Cut             ┆ Color ┆ count ┆ avg_price    ┆ median_price ┆ min_price ┆ max_price │\n",
              "│ ---             ┆ ---   ┆ ---   ┆ ---          ┆ ---          ┆ ---       ┆ ---       │\n",
              "│ str             ┆ str   ┆ u32   ┆ f64          ┆ f64          ┆ i64       ┆ i64       │\n",
              "╞═════════════════╪═══════╪═══════╪══════════════╪══════════════╪═══════════╪═══════════╡\n",
              "│ Fair            ┆ I     ┆ 16    ┆ 4573.1875    ┆ 3801.0       ┆ 3166      ┆ 8999      │\n",
              "│ Fair            ┆ E     ┆ 32    ┆ 5370.625     ┆ 4908.5       ┆ 3743      ┆ 12829     │\n",
              "│ Fair            ┆ H     ┆ 24    ┆ 5908.5       ┆ 4358.0       ┆ 2594      ┆ 17242     │\n",
              "│ Fair            ┆ D     ┆ 12    ┆ 6058.25      ┆ 5040.0       ┆ 4105      ┆ 19079     │\n",
              "│ Fair            ┆ F     ┆ 24    ┆ 6063.625     ┆ 4628.0       ┆ 2648      ┆ 29368     │\n",
              "│ …               ┆ …     ┆ …     ┆ …            ┆ …            ┆ …         ┆ …         │\n",
              "│ Signature-Ideal ┆ F     ┆ 38    ┆ 13247.947368 ┆ 10433.0      ┆ 3108      ┆ 59538     │\n",
              "│ Ideal           ┆ G     ┆ 690   ┆ 13570.310145 ┆ 9510.5       ┆ 2870      ┆ 46861     │\n",
              "│ Ideal           ┆ F     ┆ 363   ┆ 14729.426997 ┆ 10360.0      ┆ 2709      ┆ 60188     │\n",
              "│ Ideal           ┆ D     ┆ 280   ┆ 18461.953571 ┆ 10338.0      ┆ 3007      ┆ 101561    │\n",
              "│ Signature-Ideal ┆ D     ┆ 30    ┆ 19823.1      ┆ 11712.5      ┆ 4387      ┆ 81399     │\n",
              "└─────────────────┴───────┴───────┴──────────────┴──────────────┴───────────┴───────────┘"
            ],
            "text/html": [
              "<div><style>\n",
              ".dataframe > thead > tr,\n",
              ".dataframe > tbody > tr {\n",
              "  text-align: right;\n",
              "  white-space: pre-wrap;\n",
              "}\n",
              "</style>\n",
              "<small>shape: (30, 7)</small><table border=\"1\" class=\"dataframe\"><thead><tr><th>Cut</th><th>Color</th><th>count</th><th>avg_price</th><th>median_price</th><th>min_price</th><th>max_price</th></tr><tr><td>str</td><td>str</td><td>u32</td><td>f64</td><td>f64</td><td>i64</td><td>i64</td></tr></thead><tbody><tr><td>&quot;Fair&quot;</td><td>&quot;I&quot;</td><td>16</td><td>4573.1875</td><td>3801.0</td><td>3166</td><td>8999</td></tr><tr><td>&quot;Fair&quot;</td><td>&quot;E&quot;</td><td>32</td><td>5370.625</td><td>4908.5</td><td>3743</td><td>12829</td></tr><tr><td>&quot;Fair&quot;</td><td>&quot;H&quot;</td><td>24</td><td>5908.5</td><td>4358.0</td><td>2594</td><td>17242</td></tr><tr><td>&quot;Fair&quot;</td><td>&quot;D&quot;</td><td>12</td><td>6058.25</td><td>5040.0</td><td>4105</td><td>19079</td></tr><tr><td>&quot;Fair&quot;</td><td>&quot;F&quot;</td><td>24</td><td>6063.625</td><td>4628.0</td><td>2648</td><td>29368</td></tr><tr><td>&hellip;</td><td>&hellip;</td><td>&hellip;</td><td>&hellip;</td><td>&hellip;</td><td>&hellip;</td><td>&hellip;</td></tr><tr><td>&quot;Signature-Ideal&quot;</td><td>&quot;F&quot;</td><td>38</td><td>13247.947368</td><td>10433.0</td><td>3108</td><td>59538</td></tr><tr><td>&quot;Ideal&quot;</td><td>&quot;G&quot;</td><td>690</td><td>13570.310145</td><td>9510.5</td><td>2870</td><td>46861</td></tr><tr><td>&quot;Ideal&quot;</td><td>&quot;F&quot;</td><td>363</td><td>14729.426997</td><td>10360.0</td><td>2709</td><td>60188</td></tr><tr><td>&quot;Ideal&quot;</td><td>&quot;D&quot;</td><td>280</td><td>18461.953571</td><td>10338.0</td><td>3007</td><td>101561</td></tr><tr><td>&quot;Signature-Ideal&quot;</td><td>&quot;D&quot;</td><td>30</td><td>19823.1</td><td>11712.5</td><td>4387</td><td>81399</td></tr></tbody></table></div>"
            ]
          },
          "metadata": {}
        }
      ],
      "source": [
        "# Your code here:\n",
        "\n",
        "# Ensure required columns are present\n",
        "required_cols = {'Cut', 'Color', 'Price'}\n",
        "if required_cols.issubset(df.columns):\n",
        "    # Group by cut and color, then calculate price stats using Polars\n",
        "    price_by_cut_color = df.group_by(['Cut', 'Color']).agg([\n",
        "        pl.len().alias(\"count\"),\n",
        "        pl.col('Price').mean().alias(\"avg_price\"),\n",
        "        pl.col('Price').median().alias(\"median_price\"),\n",
        "        pl.col('Price').min().alias(\"min_price\"),\n",
        "        pl.col('Price').max().alias(\"max_price\")\n",
        "    ]).sort(by='avg_price', descending=False)\n",
        "\n",
        "    # Display the result\n",
        "    print(\"Pricing Structure by Cut-Color Combination:\")\n",
        "    display(price_by_cut_color)"
      ]
    },
    {
      "cell_type": "markdown",
      "metadata": {
        "id": "h7LTxW50qRIj"
      },
      "source": [
        "**Reflection:** How specific is your analysis now? What level of detail does each row represent?"
      ]
    },
    {
      "cell_type": "markdown",
      "metadata": {
        "id": "Y4JtzYVsqRIj"
      },
      "source": [
        "**Your answer:** New grain = cut-color combination."
      ]
    },
    {
      "cell_type": "markdown",
      "source": [],
      "metadata": {
        "id": "qfp7aBMs2lQj"
      }
    },
    {
      "cell_type": "markdown",
      "metadata": {
        "id": "ka1PW6CuqRIj"
      },
      "source": [
        "### Question 10: URGENT - \"Our biggest client is interested in purchasing entire inventory segments. They asked: 'Which color-cut combinations represent your highest total inventory value?' Show me the top 5 most valuable inventory segments by total worth, and include how many diamonds are in each segment.\"\n",
        "\n",
        "This is critical for tomorrow's negotiation."
      ]
    },
    {
      "cell_type": "code",
      "execution_count": 44,
      "metadata": {
        "colab": {
          "base_uri": "https://localhost:8080/",
          "height": 273
        },
        "id": "CZESe0u0qRIj",
        "outputId": "455f6840-e0c6-4f4d-b65a-77b970eaf7ca"
      },
      "outputs": [
        {
          "output_type": "stream",
          "name": "stdout",
          "text": [
            "Top 5 Most Valuable Inventory Segments (by Cut-Color):\n"
          ]
        },
        {
          "output_type": "display_data",
          "data": {
            "text/plain": [
              "shape: (5, 4)\n",
              "┌───────────┬───────┬───────────────────────┬───────────────┐\n",
              "│ Cut       ┆ Color ┆ total_inventory_value ┆ diamond_count │\n",
              "│ ---       ┆ ---   ┆ ---                   ┆ ---           │\n",
              "│ str       ┆ str   ┆ i64                   ┆ u32           │\n",
              "╞═══════════╪═══════╪═══════════════════════╪═══════════════╡\n",
              "│ Ideal     ┆ G     ┆ 9363514               ┆ 690           │\n",
              "│ Very Good ┆ G     ┆ 7140620               ┆ 578           │\n",
              "│ Very Good ┆ F     ┆ 5648327               ┆ 455           │\n",
              "│ Ideal     ┆ F     ┆ 5346782               ┆ 363           │\n",
              "│ Ideal     ┆ H     ┆ 5279687               ┆ 458           │\n",
              "└───────────┴───────┴───────────────────────┴───────────────┘"
            ],
            "text/html": [
              "<div><style>\n",
              ".dataframe > thead > tr,\n",
              ".dataframe > tbody > tr {\n",
              "  text-align: right;\n",
              "  white-space: pre-wrap;\n",
              "}\n",
              "</style>\n",
              "<small>shape: (5, 4)</small><table border=\"1\" class=\"dataframe\"><thead><tr><th>Cut</th><th>Color</th><th>total_inventory_value</th><th>diamond_count</th></tr><tr><td>str</td><td>str</td><td>i64</td><td>u32</td></tr></thead><tbody><tr><td>&quot;Ideal&quot;</td><td>&quot;G&quot;</td><td>9363514</td><td>690</td></tr><tr><td>&quot;Very Good&quot;</td><td>&quot;G&quot;</td><td>7140620</td><td>578</td></tr><tr><td>&quot;Very Good&quot;</td><td>&quot;F&quot;</td><td>5648327</td><td>455</td></tr><tr><td>&quot;Ideal&quot;</td><td>&quot;F&quot;</td><td>5346782</td><td>363</td></tr><tr><td>&quot;Ideal&quot;</td><td>&quot;H&quot;</td><td>5279687</td><td>458</td></tr></tbody></table></div>"
            ]
          },
          "metadata": {}
        }
      ],
      "source": [
        "# Your code here:\n",
        "\n",
        "# Ensure required columns are present\n",
        "required_cols = {'Cut', 'Color', 'Price'}\n",
        "if required_cols.issubset(df.columns):\n",
        "    # Group by cut and color to summarize\n",
        "    segment_summary = df.group_by(['Cut', 'Color']).agg([\n",
        "        pl.sum('Price').alias('total_inventory_value'),\n",
        "        pl.len().alias('diamond_count'),\n",
        "    ]).sort(by='total_inventory_value', descending=True)\n",
        "\n",
        "    # Get top 5\n",
        "    top_5_segments = segment_summary.head(5)\n",
        "\n",
        "    print(\"Top 5 Most Valuable Inventory Segments (by Cut-Color):\")\n",
        "    display(top_5_segments)"
      ]
    },
    {
      "cell_type": "markdown",
      "metadata": {
        "id": "n0wURSdsqRIk"
      },
      "source": [
        "## Debrief\n",
        "\n",
        "Congratulations! You've just completed your first day as the diamond company's data analyst.\n",
        "\n",
        "Remember:\n",
        "- CEOs speak in business language, not technical terms\n",
        "- Always understand what each row represents before analyzing\n",
        "- Business questions contain clues about which operations to use"
      ]
    }
  ],
  "metadata": {
    "kernelspec": {
      "display_name": "Python 3",
      "language": "python",
      "name": "python3"
    },
    "language_info": {
      "codemirror_mode": {
        "name": "ipython",
        "version": 3
      },
      "file_extension": ".py",
      "mimetype": "text/x-python",
      "name": "python",
      "nbconvert_exporter": "python",
      "pygments_lexer": "ipython3",
      "version": "3.12.0"
    },
    "colab": {
      "provenance": []
    }
  },
  "nbformat": 4,
  "nbformat_minor": 0
}
